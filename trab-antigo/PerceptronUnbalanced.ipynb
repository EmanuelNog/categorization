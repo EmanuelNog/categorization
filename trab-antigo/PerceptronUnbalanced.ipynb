{
  "nbformat": 4,
  "nbformat_minor": 0,
  "metadata": {
    "colab": {
      "provenance": [],
      "collapsed_sections": []
    },
    "kernelspec": {
      "name": "python3",
      "display_name": "Python 3"
    },
    "language_info": {
      "name": "python"
    }
  },
  "cells": [
    {
      "cell_type": "code",
      "execution_count": 2,
      "metadata": {
        "id": "tF5GNBOk5PsX"
      },
      "outputs": [],
      "source": [
        "import pandas as pd\n",
        "import numpy as np\n",
        "\n",
        "dataSet = pd.read_csv('brain_stroke_formated.csv')  \n",
        "#colunas\n",
        "x = dataSet.loc[:,\"gender\":\"smoking_status\"].values\n",
        "y = dataSet.loc[:,\"stroke\"].values\n",
        "from sklearn.model_selection import train_test_split\n",
        "#x = dataSet.values[:, 1:7]\n",
        "#y = dataSet.values[:, 7]\n",
        "#x=x.transpose()\n",
        "#divisao do dataset"
      ]
    },
    {
      "cell_type": "code",
      "source": [
        "X_train, X_test, y_train, y_test = train_test_split(x, y, test_size = 0.3, random_state = 100)"
      ],
      "metadata": {
        "id": "4QkjAPs54ehz"
      },
      "execution_count": 3,
      "outputs": []
    },
    {
      "cell_type": "markdown",
      "source": [],
      "metadata": {
        "id": "X6d5jFNrTd-n"
      }
    },
    {
      "cell_type": "code",
      "source": [
        "#classificador\n",
        "from sklearn.linear_model import Perceptron\n",
        "clf = Perceptron()\n",
        "clf.fit(X_train, y_train)"
      ],
      "metadata": {
        "colab": {
          "base_uri": "https://localhost:8080/"
        },
        "outputId": "be7a4c4e-78d3-4fa8-bfa2-3bb1cb6c0d6d",
        "id": "C-GCk0GwPChm"
      },
      "execution_count": 4,
      "outputs": [
        {
          "output_type": "execute_result",
          "data": {
            "text/plain": [
              "Perceptron()"
            ]
          },
          "metadata": {},
          "execution_count": 4
        }
      ]
    },
    {
      "cell_type": "code",
      "source": [
        "dataSet.loc[:,['WBN_GC_L_0.25','WBN_GC_H_0.25','WBN_GC_L_0.50','NumHBD','MW','BBB','BadGroup','Outcome']].head()\n",
        "#dataSet.head()"
      ],
      "metadata": {
        "colab": {
          "base_uri": "https://localhost:8080/",
          "height": 206
        },
        "id": "eBJsAKh2C_0G",
        "outputId": "7d8fa697-63bb-40ae-b5b4-e36c713fae2e"
      },
      "execution_count": null,
      "outputs": [
        {
          "output_type": "execute_result",
          "data": {
            "text/plain": [
              "   WBN_GC_L_0.25  WBN_GC_H_0.25  WBN_GC_L_0.50  NumHBD       MW  BBB  \\\n",
              "0        -2.3941         1.8819        -2.5208       1  362.857    1   \n",
              "1        -2.3342         2.3811        -2.6012       1  320.266    1   \n",
              "2        -1.4709         2.0782        -1.8538       1  376.459    0   \n",
              "3        -1.4722         1.9812        -1.7911       3  442.581    0   \n",
              "4        -2.2448         1.9814        -2.3705       2  401.484    0   \n",
              "\n",
              "   BadGroup Outcome  \n",
              "0         0  Active  \n",
              "1         0  Active  \n",
              "2         1  Active  \n",
              "3         0  Active  \n",
              "4         0  Active  "
            ],
            "text/html": [
              "\n",
              "  <div id=\"df-3c300904-c7c4-4dca-b153-10393997ff9c\">\n",
              "    <div class=\"colab-df-container\">\n",
              "      <div>\n",
              "<style scoped>\n",
              "    .dataframe tbody tr th:only-of-type {\n",
              "        vertical-align: middle;\n",
              "    }\n",
              "\n",
              "    .dataframe tbody tr th {\n",
              "        vertical-align: top;\n",
              "    }\n",
              "\n",
              "    .dataframe thead th {\n",
              "        text-align: right;\n",
              "    }\n",
              "</style>\n",
              "<table border=\"1\" class=\"dataframe\">\n",
              "  <thead>\n",
              "    <tr style=\"text-align: right;\">\n",
              "      <th></th>\n",
              "      <th>WBN_GC_L_0.25</th>\n",
              "      <th>WBN_GC_H_0.25</th>\n",
              "      <th>WBN_GC_L_0.50</th>\n",
              "      <th>NumHBD</th>\n",
              "      <th>MW</th>\n",
              "      <th>BBB</th>\n",
              "      <th>BadGroup</th>\n",
              "      <th>Outcome</th>\n",
              "    </tr>\n",
              "  </thead>\n",
              "  <tbody>\n",
              "    <tr>\n",
              "      <th>0</th>\n",
              "      <td>-2.3941</td>\n",
              "      <td>1.8819</td>\n",
              "      <td>-2.5208</td>\n",
              "      <td>1</td>\n",
              "      <td>362.857</td>\n",
              "      <td>1</td>\n",
              "      <td>0</td>\n",
              "      <td>Active</td>\n",
              "    </tr>\n",
              "    <tr>\n",
              "      <th>1</th>\n",
              "      <td>-2.3342</td>\n",
              "      <td>2.3811</td>\n",
              "      <td>-2.6012</td>\n",
              "      <td>1</td>\n",
              "      <td>320.266</td>\n",
              "      <td>1</td>\n",
              "      <td>0</td>\n",
              "      <td>Active</td>\n",
              "    </tr>\n",
              "    <tr>\n",
              "      <th>2</th>\n",
              "      <td>-1.4709</td>\n",
              "      <td>2.0782</td>\n",
              "      <td>-1.8538</td>\n",
              "      <td>1</td>\n",
              "      <td>376.459</td>\n",
              "      <td>0</td>\n",
              "      <td>1</td>\n",
              "      <td>Active</td>\n",
              "    </tr>\n",
              "    <tr>\n",
              "      <th>3</th>\n",
              "      <td>-1.4722</td>\n",
              "      <td>1.9812</td>\n",
              "      <td>-1.7911</td>\n",
              "      <td>3</td>\n",
              "      <td>442.581</td>\n",
              "      <td>0</td>\n",
              "      <td>0</td>\n",
              "      <td>Active</td>\n",
              "    </tr>\n",
              "    <tr>\n",
              "      <th>4</th>\n",
              "      <td>-2.2448</td>\n",
              "      <td>1.9814</td>\n",
              "      <td>-2.3705</td>\n",
              "      <td>2</td>\n",
              "      <td>401.484</td>\n",
              "      <td>0</td>\n",
              "      <td>0</td>\n",
              "      <td>Active</td>\n",
              "    </tr>\n",
              "  </tbody>\n",
              "</table>\n",
              "</div>\n",
              "      <button class=\"colab-df-convert\" onclick=\"convertToInteractive('df-3c300904-c7c4-4dca-b153-10393997ff9c')\"\n",
              "              title=\"Convert this dataframe to an interactive table.\"\n",
              "              style=\"display:none;\">\n",
              "        \n",
              "  <svg xmlns=\"http://www.w3.org/2000/svg\" height=\"24px\"viewBox=\"0 0 24 24\"\n",
              "       width=\"24px\">\n",
              "    <path d=\"M0 0h24v24H0V0z\" fill=\"none\"/>\n",
              "    <path d=\"M18.56 5.44l.94 2.06.94-2.06 2.06-.94-2.06-.94-.94-2.06-.94 2.06-2.06.94zm-11 1L8.5 8.5l.94-2.06 2.06-.94-2.06-.94L8.5 2.5l-.94 2.06-2.06.94zm10 10l.94 2.06.94-2.06 2.06-.94-2.06-.94-.94-2.06-.94 2.06-2.06.94z\"/><path d=\"M17.41 7.96l-1.37-1.37c-.4-.4-.92-.59-1.43-.59-.52 0-1.04.2-1.43.59L10.3 9.45l-7.72 7.72c-.78.78-.78 2.05 0 2.83L4 21.41c.39.39.9.59 1.41.59.51 0 1.02-.2 1.41-.59l7.78-7.78 2.81-2.81c.8-.78.8-2.07 0-2.86zM5.41 20L4 18.59l7.72-7.72 1.47 1.35L5.41 20z\"/>\n",
              "  </svg>\n",
              "      </button>\n",
              "      \n",
              "  <style>\n",
              "    .colab-df-container {\n",
              "      display:flex;\n",
              "      flex-wrap:wrap;\n",
              "      gap: 12px;\n",
              "    }\n",
              "\n",
              "    .colab-df-convert {\n",
              "      background-color: #E8F0FE;\n",
              "      border: none;\n",
              "      border-radius: 50%;\n",
              "      cursor: pointer;\n",
              "      display: none;\n",
              "      fill: #1967D2;\n",
              "      height: 32px;\n",
              "      padding: 0 0 0 0;\n",
              "      width: 32px;\n",
              "    }\n",
              "\n",
              "    .colab-df-convert:hover {\n",
              "      background-color: #E2EBFA;\n",
              "      box-shadow: 0px 1px 2px rgba(60, 64, 67, 0.3), 0px 1px 3px 1px rgba(60, 64, 67, 0.15);\n",
              "      fill: #174EA6;\n",
              "    }\n",
              "\n",
              "    [theme=dark] .colab-df-convert {\n",
              "      background-color: #3B4455;\n",
              "      fill: #D2E3FC;\n",
              "    }\n",
              "\n",
              "    [theme=dark] .colab-df-convert:hover {\n",
              "      background-color: #434B5C;\n",
              "      box-shadow: 0px 1px 3px 1px rgba(0, 0, 0, 0.15);\n",
              "      filter: drop-shadow(0px 1px 2px rgba(0, 0, 0, 0.3));\n",
              "      fill: #FFFFFF;\n",
              "    }\n",
              "  </style>\n",
              "\n",
              "      <script>\n",
              "        const buttonEl =\n",
              "          document.querySelector('#df-3c300904-c7c4-4dca-b153-10393997ff9c button.colab-df-convert');\n",
              "        buttonEl.style.display =\n",
              "          google.colab.kernel.accessAllowed ? 'block' : 'none';\n",
              "\n",
              "        async function convertToInteractive(key) {\n",
              "          const element = document.querySelector('#df-3c300904-c7c4-4dca-b153-10393997ff9c');\n",
              "          const dataTable =\n",
              "            await google.colab.kernel.invokeFunction('convertToInteractive',\n",
              "                                                     [key], {});\n",
              "          if (!dataTable) return;\n",
              "\n",
              "          const docLinkHtml = 'Like what you see? Visit the ' +\n",
              "            '<a target=\"_blank\" href=https://colab.research.google.com/notebooks/data_table.ipynb>data table notebook</a>'\n",
              "            + ' to learn more about interactive tables.';\n",
              "          element.innerHTML = '';\n",
              "          dataTable['output_type'] = 'display_data';\n",
              "          await google.colab.output.renderOutput(dataTable, element);\n",
              "          const docLink = document.createElement('div');\n",
              "          docLink.innerHTML = docLinkHtml;\n",
              "          element.appendChild(docLink);\n",
              "        }\n",
              "      </script>\n",
              "    </div>\n",
              "  </div>\n",
              "  "
            ]
          },
          "metadata": {},
          "execution_count": 104
        }
      ]
    },
    {
      "cell_type": "code",
      "source": [
        "#acuracia\n",
        "from sklearn.metrics import accuracy_score\n",
        "y_previsto = clf.predict(X_test)\n",
        "y_desejado = y_test\n",
        "accuracy_score(y_previsto, y_desejado)"
      ],
      "metadata": {
        "colab": {
          "base_uri": "https://localhost:8080/"
        },
        "id": "aaiE5JjIKpLm",
        "outputId": "8a485cc0-0e93-4b9d-c424-20a6e524e96f"
      },
      "execution_count": 5,
      "outputs": [
        {
          "output_type": "execute_result",
          "data": {
            "text/plain": [
              "0.959866220735786"
            ]
          },
          "metadata": {},
          "execution_count": 5
        }
      ]
    },
    {
      "cell_type": "code",
      "source": [
        "y_desejado"
      ],
      "metadata": {
        "id": "6uO9He2QfQ0r",
        "outputId": "216cb0fd-8e72-4603-edf0-bbd1af04c348",
        "colab": {
          "base_uri": "https://localhost:8080/"
        }
      },
      "execution_count": 6,
      "outputs": [
        {
          "output_type": "execute_result",
          "data": {
            "text/plain": [
              "array(['stroke_negative', 'stroke_negative', 'stroke_negative', ...,\n",
              "       'stroke_negative', 'stroke_negative', 'stroke_negative'],\n",
              "      dtype=object)"
            ]
          },
          "metadata": {},
          "execution_count": 6
        }
      ]
    },
    {
      "cell_type": "code",
      "source": [
        "y_previsto"
      ],
      "metadata": {
        "colab": {
          "base_uri": "https://localhost:8080/"
        },
        "id": "X0YxtNKDdHEj",
        "outputId": "b80e0562-e96c-4d0e-96f8-54941da41cb7"
      },
      "execution_count": 7,
      "outputs": [
        {
          "output_type": "execute_result",
          "data": {
            "text/plain": [
              "array(['stroke_negative', 'stroke_negative', 'stroke_negative', ...,\n",
              "       'stroke_negative', 'stroke_negative', 'stroke_negative'],\n",
              "      dtype='<U15')"
            ]
          },
          "metadata": {},
          "execution_count": 7
        }
      ]
    }
  ]
}